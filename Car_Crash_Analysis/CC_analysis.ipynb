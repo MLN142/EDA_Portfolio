{
 "cells": [
  {
   "cell_type": "code",
   "execution_count": 18,
   "id": "40bf26ea",
   "metadata": {},
   "outputs": [
    {
     "name": "stdout",
     "output_type": "stream",
     "text": [
      "Requirement already satisfied: seaborn in c:\\users\\milan\\appdata\\local\\programs\\python\\python312\\lib\\site-packages (0.13.2)\n",
      "Requirement already satisfied: numpy!=1.24.0,>=1.20 in c:\\users\\milan\\appdata\\local\\programs\\python\\python312\\lib\\site-packages (from seaborn) (2.3.3)\n",
      "Requirement already satisfied: pandas>=1.2 in c:\\users\\milan\\appdata\\local\\programs\\python\\python312\\lib\\site-packages (from seaborn) (2.3.3)\n",
      "Requirement already satisfied: matplotlib!=3.6.1,>=3.4 in c:\\users\\milan\\appdata\\local\\programs\\python\\python312\\lib\\site-packages (from seaborn) (3.10.6)\n",
      "Requirement already satisfied: contourpy>=1.0.1 in c:\\users\\milan\\appdata\\local\\programs\\python\\python312\\lib\\site-packages (from matplotlib!=3.6.1,>=3.4->seaborn) (1.3.3)\n",
      "Requirement already satisfied: cycler>=0.10 in c:\\users\\milan\\appdata\\local\\programs\\python\\python312\\lib\\site-packages (from matplotlib!=3.6.1,>=3.4->seaborn) (0.12.1)\n",
      "Requirement already satisfied: fonttools>=4.22.0 in c:\\users\\milan\\appdata\\local\\programs\\python\\python312\\lib\\site-packages (from matplotlib!=3.6.1,>=3.4->seaborn) (4.60.1)\n",
      "Requirement already satisfied: kiwisolver>=1.3.1 in c:\\users\\milan\\appdata\\local\\programs\\python\\python312\\lib\\site-packages (from matplotlib!=3.6.1,>=3.4->seaborn) (1.4.9)\n",
      "Requirement already satisfied: packaging>=20.0 in c:\\users\\milan\\appdata\\roaming\\python\\python312\\site-packages (from matplotlib!=3.6.1,>=3.4->seaborn) (25.0)\n",
      "Requirement already satisfied: pillow>=8 in c:\\users\\milan\\appdata\\local\\programs\\python\\python312\\lib\\site-packages (from matplotlib!=3.6.1,>=3.4->seaborn) (11.3.0)\n",
      "Requirement already satisfied: pyparsing>=2.3.1 in c:\\users\\milan\\appdata\\local\\programs\\python\\python312\\lib\\site-packages (from matplotlib!=3.6.1,>=3.4->seaborn) (3.2.5)\n",
      "Requirement already satisfied: python-dateutil>=2.7 in c:\\users\\milan\\appdata\\roaming\\python\\python312\\site-packages (from matplotlib!=3.6.1,>=3.4->seaborn) (2.9.0.post0)\n",
      "Requirement already satisfied: pytz>=2020.1 in c:\\users\\milan\\appdata\\local\\programs\\python\\python312\\lib\\site-packages (from pandas>=1.2->seaborn) (2025.2)\n",
      "Requirement already satisfied: tzdata>=2022.7 in c:\\users\\milan\\appdata\\local\\programs\\python\\python312\\lib\\site-packages (from pandas>=1.2->seaborn) (2025.2)\n",
      "Requirement already satisfied: six>=1.5 in c:\\users\\milan\\appdata\\roaming\\python\\python312\\site-packages (from python-dateutil>=2.7->matplotlib!=3.6.1,>=3.4->seaborn) (1.17.0)\n",
      "Note: you may need to restart the kernel to use updated packages.\n"
     ]
    },
    {
     "name": "stderr",
     "output_type": "stream",
     "text": [
      "\n",
      "[notice] A new release of pip is available: 24.0 -> 25.2\n",
      "[notice] To update, run: python.exe -m pip install --upgrade pip\n"
     ]
    }
   ],
   "source": [
    "%pip install seaborn"
   ]
  },
  {
   "cell_type": "code",
   "execution_count": 19,
   "id": "180dde1c",
   "metadata": {},
   "outputs": [],
   "source": [
    "import seaborn as sns\n",
    "import matplotlib.pyplot as plt"
   ]
  },
  {
   "cell_type": "code",
   "execution_count": 20,
   "id": "cfdcbb97",
   "metadata": {},
   "outputs": [],
   "source": [
    "df=sns.load_dataset(\"car_crashes\")\n"
   ]
  },
  {
   "cell_type": "code",
   "execution_count": 21,
   "id": "35cf67ff",
   "metadata": {},
   "outputs": [
    {
     "name": "stdout",
     "output_type": "stream",
     "text": [
      "(51, 8)\n",
      "Index(['total', 'speeding', 'alcohol', 'not_distracted', 'no_previous',\n",
      "       'ins_premium', 'ins_losses', 'abbrev'],\n",
      "      dtype='object')\n"
     ]
    }
   ],
   "source": [
    "print(df.shape)\n",
    "print(df.columns)"
   ]
  },
  {
   "cell_type": "code",
   "execution_count": 22,
   "id": "c1e92c6c",
   "metadata": {},
   "outputs": [
    {
     "name": "stdout",
     "output_type": "stream",
     "text": [
      "<class 'pandas.core.frame.DataFrame'>\n",
      "RangeIndex: 51 entries, 0 to 50\n",
      "Data columns (total 8 columns):\n",
      " #   Column          Non-Null Count  Dtype  \n",
      "---  ------          --------------  -----  \n",
      " 0   total           51 non-null     float64\n",
      " 1   speeding        51 non-null     float64\n",
      " 2   alcohol         51 non-null     float64\n",
      " 3   not_distracted  51 non-null     float64\n",
      " 4   no_previous     51 non-null     float64\n",
      " 5   ins_premium     51 non-null     float64\n",
      " 6   ins_losses      51 non-null     float64\n",
      " 7   abbrev          51 non-null     object \n",
      "dtypes: float64(7), object(1)\n",
      "memory usage: 3.3+ KB\n",
      "None\n"
     ]
    }
   ],
   "source": [
    "print(df.info())"
   ]
  },
  {
   "cell_type": "code",
   "execution_count": 23,
   "id": "991e7ba7",
   "metadata": {},
   "outputs": [
    {
     "name": "stdout",
     "output_type": "stream",
     "text": [
      "           total   speeding    alcohol  not_distracted  no_previous  \\\n",
      "count  51.000000  51.000000  51.000000       51.000000    51.000000   \n",
      "mean   15.790196   4.998196   4.886784       13.573176    14.004882   \n",
      "std     4.122002   2.017747   1.729133        4.508977     3.764672   \n",
      "min     5.900000   1.792000   1.593000        1.760000     5.900000   \n",
      "25%    12.750000   3.766500   3.894000       10.478000    11.348000   \n",
      "50%    15.600000   4.608000   4.554000       13.857000    13.775000   \n",
      "75%    18.500000   6.439000   5.604000       16.140000    16.755000   \n",
      "max    23.900000   9.450000  10.038000       23.661000    21.280000   \n",
      "\n",
      "       ins_premium  ins_losses  \n",
      "count    51.000000   51.000000  \n",
      "mean    886.957647  134.493137  \n",
      "std     178.296285   24.835922  \n",
      "min     641.960000   82.750000  \n",
      "25%     768.430000  114.645000  \n",
      "50%     858.970000  136.050000  \n",
      "75%    1007.945000  151.870000  \n",
      "max    1301.520000  194.780000  \n"
     ]
    }
   ],
   "source": [
    "print(df.describe())"
   ]
  },
  {
   "cell_type": "code",
   "execution_count": 24,
   "id": "15f6a432",
   "metadata": {},
   "outputs": [
    {
     "name": "stdout",
     "output_type": "stream",
     "text": [
      "False    51\n",
      "Name: count, dtype: int64\n"
     ]
    }
   ],
   "source": [
    "print(df.duplicated().value_counts())"
   ]
  },
  {
   "cell_type": "code",
   "execution_count": 25,
   "id": "a19fa140",
   "metadata": {},
   "outputs": [
    {
     "name": "stdout",
     "output_type": "stream",
     "text": [
      "   total  speeding  alcohol  not_distracted  no_previous  ins_premium  \\\n",
      "0   18.8     7.332    5.640          18.048       15.040       784.55   \n",
      "1   18.1     7.421    4.525          16.290       17.014      1053.48   \n",
      "2   18.6     6.510    5.208          15.624       17.856       899.47   \n",
      "3   22.4     4.032    5.824          21.056       21.280       827.34   \n",
      "4   12.0     4.200    3.360          10.920       10.680       878.41   \n",
      "5   13.6     5.032    3.808          10.744       12.920       835.50   \n",
      "6   10.8     4.968    3.888           9.396        8.856      1068.73   \n",
      "7   16.2     6.156    4.860          14.094       16.038      1137.87   \n",
      "8    5.9     2.006    1.593           5.900        5.900      1273.89   \n",
      "9   17.9     3.759    5.191          16.468       16.826      1160.13   \n",
      "\n",
      "   ins_losses abbrev  \n",
      "0      145.08     AL  \n",
      "1      133.93     AK  \n",
      "2      110.35     AZ  \n",
      "3      142.39     AR  \n",
      "4      165.63     CA  \n",
      "5      139.91     CO  \n",
      "6      167.02     CT  \n",
      "7      151.48     DE  \n",
      "8      136.05     DC  \n",
      "9      144.18     FL  \n"
     ]
    }
   ],
   "source": [
    "print(df.head(10))"
   ]
  },
  {
   "cell_type": "code",
   "execution_count": 33,
   "id": "49bf87ae",
   "metadata": {},
   "outputs": [
    {
     "data": {
      "image/png": "[encoded data removed]",
      "text/plain": [
       "<Figure size 1600x600 with 1 Axes>"
      ]
     },
     "metadata": {},
     "output_type": "display_data"
    }
   ],
   "source": [
    "plt.figure(figsize=(16,6))\n",
    "sns.barplot(data=df,x=\"abbrev\",y=\"total\")\n",
    "plt.show()"
   ]
  },
  {
   "cell_type": "code",
   "execution_count": null,
   "id": "24d94499",
   "metadata": {},
   "outputs": [],
   "source": []
  }
 ],
 "metadata": {
  "kernelspec": {
   "display_name": "Python 3",
   "language": "python",
   "name": "python3"
  },
  "language_info": {
   "codemirror_mode": {
    "name": "ipython",
    "version": 3
   },
   "file_extension": ".py",
   "mimetype": "text/x-python",
   "name": "python",
   "nbconvert_exporter": "python",
   "pygments_lexer": "ipython3",
   "version": "3.12.3"
  }
 },
 "nbformat": 4,
 "nbformat_minor": 5
}
